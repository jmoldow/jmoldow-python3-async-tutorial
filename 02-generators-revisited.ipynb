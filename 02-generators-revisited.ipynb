{
 "cells": [
  {
   "cell_type": "markdown",
   "metadata": {
    "collapsed": true,
    "deletable": true,
    "editable": true
   },
   "source": [
    "# The basics of generators"
   ]
  },
  {
   "cell_type": "markdown",
   "metadata": {},
   "source": [
    "A ``Generator`` (https://docs.python.org/3.6/reference/expressions.html#generator-iterator-methods) is a type of iterator which can be constructed natively inside a Python ``def`` function. A ``def`` function is a generator function if it contains any ``yield`` statements. And the immediate return value of calling such a function is a generator iterator, or just a generator.\n",
    "\n",
    "A generator doesn't execute all at once like a regular function does. In fact, calling a generator function doesn't execute any of that function's code immediately, whereas calling a regular function executes all of its code immediately until it returns. Whenever a generator is run, it runs until the end of the function OR until the next ``yield`` statement. At that point, the value in the ``yield`` expression is returned to the caller, and the execution of the generator is suspended until it is next called.\n",
    "\n",
    "While execution is suspended, the full local state of the execution of the generator function closure is stored in memory. This allows it to be resumed later, as if it had never paused.\n",
    "\n",
    "A generator is most commonly used as a normal iterator. This means that it can be automatically iterated over with a for-loop, or manually iterated over with ``next()``. It can also be passed to any function that expects an iterator or an iterable. ``next()`` returns the value of the first ``yield`` statement it encounters, or raises ``StopIteration`` if the generator function completes."
   ]
  },
  {
   "cell_type": "code",
   "execution_count": 1,
   "metadata": {
    "collapsed": true
   },
   "outputs": [],
   "source": [
    "def range_generator_function(stop):\n",
    "    \"\"\"Naive implementation of builtins.range generator.\"\"\"\n",
    "    # This function runs immediately, since it has no `yield` statements.\n",
    "    # It is a normal function, which happens to return a generator iterator.\n",
    "    print(\"Running line 1\")\n",
    "    if not isinstance(stop, int):\n",
    "        raise TypeError('stop must be an int')\n",
    "    if stop < 0:\n",
    "        raise ValueError('stop must be >= 0')\n",
    "    print(\"Running line 2\")\n",
    "    range_generator = _range_generator_function(stop=stop)\n",
    "    print(\"Running line 3\")\n",
    "    return range_generator\n",
    "\n",
    "def _range_generator_function(stop):\n",
    "    # This function does not run immediately, since it has `yield` statements.\n",
    "    # It is a generator function, and returns a generator iterator.\n",
    "    index = 0\n",
    "    print(\"Running line 4\")\n",
    "    while index < stop:\n",
    "        print(\"Running line 5 with index\", index)\n",
    "        yield index\n",
    "        print(\"Running line 6 with index\", index)\n",
    "        index += 1\n",
    "    print(\"Running line 7 with index\", index)"
   ]
  },
  {
   "cell_type": "code",
   "execution_count": 2,
   "metadata": {
    "collapsed": false
   },
   "outputs": [
    {
     "name": "stdout",
     "output_type": "stream",
     "text": [
      "Running line 1\n",
      "Running line 2\n",
      "Running line 3\n"
     ]
    },
    {
     "data": {
      "text/plain": [
       "<generator object _range_generator_function at 0x10e94ff68>"
      ]
     },
     "execution_count": 2,
     "metadata": {},
     "output_type": "execute_result"
    }
   ],
   "source": [
    "range_generator = range_generator_function(2)  # Executes all prints in `range_generator_function()`,\n",
    "range_generator                                # but none in `_range_generator_function()`."
   ]
  },
  {
   "cell_type": "code",
   "execution_count": 3,
   "metadata": {
    "collapsed": false
   },
   "outputs": [
    {
     "data": {
      "text/plain": [
       "(True, True)"
      ]
     },
     "execution_count": 3,
     "metadata": {},
     "output_type": "execute_result"
    }
   ],
   "source": [
    "import collections\n",
    "isinstance(range_generator, collections.Iterable), isinstance(range_generator, collections.Iterator)"
   ]
  },
  {
   "cell_type": "code",
   "execution_count": 4,
   "metadata": {
    "collapsed": false
   },
   "outputs": [
    {
     "data": {
      "text/plain": [
       "True"
      ]
     },
     "execution_count": 4,
     "metadata": {},
     "output_type": "execute_result"
    }
   ],
   "source": [
    "isinstance(range_generator, collections.Generator)"
   ]
  },
  {
   "cell_type": "code",
   "execution_count": 5,
   "metadata": {
    "collapsed": false
   },
   "outputs": [
    {
     "name": "stdout",
     "output_type": "stream",
     "text": [
      "Running line 4\n",
      "Running line 5 with index 0\n"
     ]
    },
    {
     "data": {
      "text/plain": [
       "0"
      ]
     },
     "execution_count": 5,
     "metadata": {},
     "output_type": "execute_result"
    }
   ],
   "source": [
    "next(range_generator)"
   ]
  },
  {
   "cell_type": "code",
   "execution_count": 6,
   "metadata": {
    "collapsed": false
   },
   "outputs": [
    {
     "name": "stdout",
     "output_type": "stream",
     "text": [
      "Running line 6 with index 0\n",
      "Running line 5 with index 1\n"
     ]
    },
    {
     "data": {
      "text/plain": [
       "1"
      ]
     },
     "execution_count": 6,
     "metadata": {},
     "output_type": "execute_result"
    }
   ],
   "source": [
    "next(range_generator)"
   ]
  },
  {
   "cell_type": "code",
   "execution_count": 7,
   "metadata": {
    "collapsed": false
   },
   "outputs": [
    {
     "name": "stdout",
     "output_type": "stream",
     "text": [
      "Running line 6 with index 1\n",
      "Running line 7 with index 2\n"
     ]
    },
    {
     "name": "stderr",
     "output_type": "stream",
     "text": [
      "Traceback (most recent call last):\n",
      "  File \"<ipython-input-7-0036f538f66b>\", line 4, in <module>\n",
      "    next(range_generator)\n",
      "StopIteration\n"
     ]
    }
   ],
   "source": [
    "import traceback\n",
    "\n",
    "try:\n",
    "    next(range_generator)\n",
    "except StopIteration:\n",
    "    traceback.print_exc()"
   ]
  },
  {
   "cell_type": "code",
   "execution_count": 8,
   "metadata": {
    "collapsed": false
   },
   "outputs": [
    {
     "data": {
      "text/plain": [
       "2"
      ]
     },
     "execution_count": 8,
     "metadata": {},
     "output_type": "execute_result"
    }
   ],
   "source": [
    "next(range_generator, 2)  # Generator is exhausted, nothing more will get printed."
   ]
  },
  {
   "cell_type": "code",
   "execution_count": 9,
   "metadata": {
    "collapsed": false
   },
   "outputs": [
    {
     "name": "stdout",
     "output_type": "stream",
     "text": [
      "Running line 1\n",
      "Running line 2\n",
      "Running line 3\n",
      "Running line 4\n",
      "Running line 5 with index 0\n",
      "yielded 0\n",
      "Running line 6 with index 0\n",
      "Running line 5 with index 1\n",
      "yielded 1\n",
      "Running line 6 with index 1\n",
      "Running line 5 with index 2\n",
      "yielded 2\n",
      "Running line 6 with index 2\n",
      "Running line 5 with index 3\n",
      "yielded 3\n",
      "Running line 6 with index 3\n",
      "Running line 7 with index 4\n"
     ]
    }
   ],
   "source": [
    "range_generator = range_generator_function(4)\n",
    "for item in range_generator:\n",
    "    print('yielded', item)"
   ]
  },
  {
   "cell_type": "markdown",
   "metadata": {},
   "source": [
    "# Advanced uses of generators"
   ]
  },
  {
   "cell_type": "markdown",
   "metadata": {},
   "source": [
    "The above covers the majority of use cases of generators. It is probably the case that most Python programmers have used the above, or at least encountered it while reading other Python code.\n",
    "\n",
    "However, generators are more than just a special syntax for iterators. There is more to the generator protocol, though it tends to be less widely used and known."
   ]
  },
  {
   "cell_type": "markdown",
   "metadata": {},
   "source": [
    "## Generators that return values"
   ]
  },
  {
   "cell_type": "markdown",
   "metadata": {},
   "source": [
    "In the following example, the generator will yield once, and then raise ``StopIteration`` when it hits the ``return`` statement."
   ]
  },
  {
   "cell_type": "code",
   "execution_count": 10,
   "metadata": {
    "collapsed": false
   },
   "outputs": [
    {
     "data": {
      "text/plain": [
       "0"
      ]
     },
     "execution_count": 10,
     "metadata": {},
     "output_type": "execute_result"
    }
   ],
   "source": [
    "def generator_function():\n",
    "    yield 0\n",
    "    return\n",
    "\n",
    "generator = generator_function()\n",
    "next(generator)"
   ]
  },
  {
   "cell_type": "code",
   "execution_count": 11,
   "metadata": {
    "collapsed": false
   },
   "outputs": [
    {
     "name": "stderr",
     "output_type": "stream",
     "text": [
      "Traceback (most recent call last):\n",
      "  File \"<ipython-input-11-b0728b20533f>\", line 4, in <module>\n",
      "    next(generator)\n",
      "StopIteration\n"
     ]
    }
   ],
   "source": [
    "import traceback\n",
    "\n",
    "try:\n",
    "    next(generator)\n",
    "except StopIteration:\n",
    "    traceback.print_exc()"
   ]
  },
  {
   "cell_type": "markdown",
   "metadata": {},
   "source": [
    "It might be thought that generators will only pass value via ``yield``, and will always have empty ``return`` statements. Not true! Just like in normal functions, a generator function can return arbitrary values with ``return`` statements."
   ]
  },
  {
   "cell_type": "code",
   "execution_count": 12,
   "metadata": {
    "collapsed": false
   },
   "outputs": [
    {
     "name": "stdout",
     "output_type": "stream",
     "text": [
      "StopIteration('return_value',)\n",
      "'return_value'\n",
      "StopIteration()\n",
      "None\n"
     ]
    },
    {
     "name": "stderr",
     "output_type": "stream",
     "text": [
      "Traceback (most recent call last):\n",
      "  File \"<ipython-input-12-c04ae8dac0fb>\", line 11, in <module>\n",
      "    next(generator)\n",
      "StopIteration: return_value\n",
      "Traceback (most recent call last):\n",
      "  File \"<ipython-input-12-c04ae8dac0fb>\", line 18, in <module>\n",
      "    next(generator)\n",
      "StopIteration\n"
     ]
    }
   ],
   "source": [
    "import traceback\n",
    "\n",
    "def generator_function_that_returns_a_value():\n",
    "    yield 0\n",
    "    return 'return_value'\n",
    "\n",
    "generator = generator_function_that_returns_a_value()\n",
    "next(generator)\n",
    "\n",
    "try:\n",
    "    next(generator)\n",
    "except StopIteration as exc:\n",
    "    traceback.print_exc()\n",
    "    print(repr(exc))\n",
    "    print(repr(exc.value))\n",
    "    \n",
    "try:\n",
    "    next(generator)\n",
    "except StopIteration as exc:\n",
    "    traceback.print_exc()  # Subsequent calls to `next()` do not use the return value\n",
    "    print(repr(exc))       # when raising `StopIteration`.\n",
    "    print(repr(exc.value))"
   ]
  },
  {
   "cell_type": "markdown",
   "metadata": {},
   "source": [
    "Notice that the Python interpretter converted the ``return 'return_value'`` into a ``raise StopIteration('return_value')``. Also notice that the exception object has a ``.value`` attribute, which holds this value.\n",
    "\n",
    "This behavior is hidden when using for-loops or other functionality that catches and ignores ``StopIteration``."
   ]
  },
  {
   "cell_type": "code",
   "execution_count": 13,
   "metadata": {
    "collapsed": false
   },
   "outputs": [
    {
     "name": "stdout",
     "output_type": "stream",
     "text": [
      "yielded 0\n"
     ]
    }
   ],
   "source": [
    "for item in generator_function_that_returns_a_value():\n",
    "    print('yielded', item)"
   ]
  },
  {
   "cell_type": "code",
   "execution_count": 14,
   "metadata": {
    "collapsed": false
   },
   "outputs": [
    {
     "data": {
      "text/plain": [
       "[0]"
      ]
     },
     "execution_count": 14,
     "metadata": {},
     "output_type": "execute_result"
    }
   ],
   "source": [
    "list(generator_function_that_returns_a_value())"
   ]
  },
  {
   "cell_type": "markdown",
   "metadata": {},
   "source": [
    "## The full generator protocol: send, throw, and close"
   ]
  },
  {
   "cell_type": "markdown",
   "metadata": {},
   "source": [
    "Generators implement three extra methods besides the two (``__iter__()`` and ``__next__()``) that it needs to be an iterator. These are the ``send()``, ``throw()``, and ``close()`` methods. Together, they allow for even more control over how a generator executes its body when it resumes execution.\n",
    "\n",
    "Generators haven't always had this functionality. It was added in Python 2.5, via PEP 342 (https://www.python.org/dev/peps/pep-0342/)."
   ]
  },
  {
   "cell_type": "markdown",
   "metadata": {},
   "source": [
    "### Generator.send"
   ]
  },
  {
   "cell_type": "markdown",
   "metadata": {},
   "source": [
    "``send()`` is a slight generalization of ``__next__()``. It accepts a single value, and that value becomes the result of the ``yield`` expression as the generator resumes. The function returns the next value to be yielded, or raises ``StopIteration`` if the generator completes or returns. ``__next__()`` is actually equivalent to ``send(None)``."
   ]
  },
  {
   "cell_type": "code",
   "execution_count": 15,
   "metadata": {
    "collapsed": false
   },
   "outputs": [
    {
     "name": "stdout",
     "output_type": "stream",
     "text": [
      "print this\n",
      "yielded 1\n",
      "None\n"
     ]
    }
   ],
   "source": [
    "def generator_function():\n",
    "    print((yield 0))\n",
    "    print((yield 1))\n",
    "    \n",
    "generator = generator_function()\n",
    "next(generator)  # Advance generator to first `yield` statement.\n",
    "item = generator.send('print this')\n",
    "print('yielded', item)\n",
    "try:\n",
    "    next(generator, None)  # Same as `generator.send(None)`\n",
    "except StopIteration:\n",
    "    pass"
   ]
  },
  {
   "cell_type": "markdown",
   "metadata": {},
   "source": [
    "### Generator.throw"
   ]
  },
  {
   "cell_type": "markdown",
   "metadata": {},
   "source": [
    "``throw()`` accepts an exception, and raises it inside the generator, at the ``yield`` where the generator is currently paused. If the generator manages to ``yield`` another value, that will get returned from the function. Otherwise, any exceptions raised out of the generator will be propagated out (the same is true for `send()` and `__next__()`)."
   ]
  },
  {
   "cell_type": "code",
   "execution_count": 16,
   "metadata": {
    "collapsed": false
   },
   "outputs": [
    {
     "name": "stdout",
     "output_type": "stream",
     "text": [
      "Caught exception ExpectedError()\n",
      "yielded 1\n",
      "Did not catch exception KeyError('key',)\n"
     ]
    },
    {
     "name": "stderr",
     "output_type": "stream",
     "text": [
      "Traceback (most recent call last):\n",
      "  File \"<ipython-input-16-0081592fcb0a>\", line 22, in <module>\n",
      "    generator.throw(KeyError('key'))\n",
      "  File \"<ipython-input-16-0081592fcb0a>\", line 8, in generator_function\n",
      "    yield i\n",
      "KeyError: 'key'\n"
     ]
    }
   ],
   "source": [
    "import traceback\n",
    "\n",
    "class ExpectedError(Exception): pass\n",
    "\n",
    "def generator_function():\n",
    "    for i in range(2):\n",
    "        try:\n",
    "            yield i\n",
    "        except ExpectedError as exc:\n",
    "            print('Caught exception', repr(exc))\n",
    "            continue\n",
    "        except Exception as exc:\n",
    "            print('Did not catch exception', repr(exc))\n",
    "            raise\n",
    "    return i\n",
    "        \n",
    "generator = generator_function()\n",
    "next(generator)\n",
    "item = generator.throw(ExpectedError)\n",
    "print('yielded', item)\n",
    "try:\n",
    "    generator.throw(KeyError('key'))\n",
    "except KeyError:\n",
    "    traceback.print_exc()"
   ]
  },
  {
   "cell_type": "code",
   "execution_count": 17,
   "metadata": {
    "collapsed": false
   },
   "outputs": [
    {
     "name": "stdout",
     "output_type": "stream",
     "text": [
      "Caught exception ExpectedError()\n",
      "yielded 1\n",
      "Caught exception ExpectedError()\n",
      "StopIteration(1,)\n"
     ]
    },
    {
     "name": "stderr",
     "output_type": "stream",
     "text": [
      "Traceback (most recent call last):\n",
      "  File \"<ipython-input-17-3164f10bb419>\", line 6, in <module>\n",
      "    generator.throw(ExpectedError)\n",
      "StopIteration: 1\n"
     ]
    }
   ],
   "source": [
    "generator = generator_function()\n",
    "next(generator)\n",
    "item = generator.throw(ExpectedError)\n",
    "print('yielded', item)\n",
    "try:\n",
    "    generator.throw(ExpectedError)\n",
    "except StopIteration as exc:\n",
    "    traceback.print_exc()\n",
    "    print(repr(exc))"
   ]
  },
  {
   "cell_type": "markdown",
   "metadata": {},
   "source": [
    "### Generator.close"
   ]
  },
  {
   "cell_type": "markdown",
   "metadata": {},
   "source": [
    "``close()`` instructs the generator to stop yielding elements and exit. It is similar, though not identical, to ``throw(GeneratorExit)``.\n",
    "\n",
    "The ``GeneratorExit`` class is a subclass of ``BaseException``, but is not a subclass of ``Exception``. This makes it less likely that a generator function will catch and ignore it by mistake.\n",
    "\n",
    "``close()`` normally returns ``None``, if the generator function returns without any errors, or if the ``GeneratorExit`` exception is propagated out of the generator function. If the generator function raises a new exception while handling ``GeneratorExit``, then that exception is raised by ``close()``. It is illegal for the generator to yield a new value while handling ``close()``, so doing so causes ``RuntimeError`` to be raised instead."
   ]
  },
  {
   "cell_type": "code",
   "execution_count": 18,
   "metadata": {
    "collapsed": false
   },
   "outputs": [
    {
     "name": "stderr",
     "output_type": "stream",
     "text": [
      "Traceback (most recent call last):\n",
      "  File \"<ipython-input-18-01eb634fbaaa>\", line 3, in generator_function\n",
      "    yield\n",
      "GeneratorExit\n"
     ]
    }
   ],
   "source": [
    "def generator_function():\n",
    "    try:\n",
    "        yield\n",
    "    except:\n",
    "        traceback.print_exc()\n",
    "        raise\n",
    "    print('About to yield 1')\n",
    "    yield 1\n",
    "    \n",
    "generator = generator_function()\n",
    "next(generator)\n",
    "generator.close()"
   ]
  },
  {
   "cell_type": "code",
   "execution_count": 19,
   "metadata": {
    "collapsed": false
   },
   "outputs": [
    {
     "name": "stderr",
     "output_type": "stream",
     "text": [
      "Traceback (most recent call last):\n",
      "  File \"<ipython-input-19-796f6ddbefc9>\", line 3, in generator_function\n",
      "    yield 0\n",
      "GeneratorExit\n",
      "\n",
      "During handling of the above exception, another exception occurred:\n",
      "\n",
      "Traceback (most recent call last):\n",
      "  File \"<ipython-input-19-796f6ddbefc9>\", line 10, in <module>\n",
      "    generator.close()\n",
      "  File \"<ipython-input-19-796f6ddbefc9>\", line 5, in generator_function\n",
      "    raise KeyError('key')\n",
      "KeyError: 'key'\n"
     ]
    }
   ],
   "source": [
    "def generator_function():\n",
    "    try:\n",
    "        yield 0\n",
    "    except:\n",
    "        raise KeyError('key')\n",
    "\n",
    "generator = generator_function()\n",
    "next(generator)\n",
    "try:\n",
    "    generator.close()\n",
    "except KeyError:\n",
    "    traceback.print_exc()"
   ]
  },
  {
   "cell_type": "markdown",
   "metadata": {},
   "source": [
    "## Generators as coroutines"
   ]
  },
  {
   "cell_type": "markdown",
   "metadata": {},
   "source": [
    "With the full generator protocol, a generator is equivalent to a semicoroutine. It is also possible to build a custom dispatcher/trampoline, in order to implement a coroutine system. Reference: <https://en.wikipedia.org/wiki/Coroutine#Comparison_with_generators>. This is used in various concurrency libraries, and is demonstrated in David Beazley's PyCon 2015 talk \"Python Concurrency From the Ground Up: LIVE!\" (https://www.youtube.com/watch?v=MCs5OvhV9S4). See also the examples given in PEP 342 (https://www.python.org/dev/peps/pep-0342/).\n",
    "\n",
    "Here's a silly example of a semicoroutine in action."
   ]
  },
  {
   "cell_type": "code",
   "execution_count": 20,
   "metadata": {
    "collapsed": false
   },
   "outputs": [
    {
     "name": "stdout",
     "output_type": "stream",
     "text": [
      "At start of adder loop, current total is 0\n",
      "Sending () into adder\n",
      "Adder received ()\n",
      "At start of adder loop, current total is 0\n",
      "Current total in adder is 0\n",
      "\n",
      "Sending (10,) into adder\n",
      "Adder received (10,)\n",
      "At start of adder loop, current total is 10\n",
      "Current total in adder is 10\n",
      "\n",
      "Sending (1, 2, 3) into adder\n",
      "Adder received (1, 2, 3)\n",
      "At start of adder loop, current total is 16\n",
      "Current total in adder is 16\n",
      "\n",
      "Sending (range(0, 8),) into adder\n",
      "Adder received range(0, 8)\n",
      "At start of adder loop, current total is 44\n",
      "Current total in adder is 44\n",
      "\n",
      "Sending StopAdder into adder\n",
      "Adder received exception StopAdder() and is returning with final total 44\n",
      "Final total from adder is 44\n"
     ]
    }
   ],
   "source": [
    "import collections\n",
    "\n",
    "class StopAdder(Exception): pass\n",
    "\n",
    "def adder_function():\n",
    "    total = 0\n",
    "    while True:\n",
    "        print('At start of adder loop, current total is', total)\n",
    "        try:\n",
    "            integers = (yield total)\n",
    "        except (Exception, GeneratorExit) as exc:\n",
    "            print('Adder received exception', repr(exc), 'and is returning with final total', total)\n",
    "            return total\n",
    "        if not isinstance(integers, (list, tuple)):\n",
    "            integers = [integers]\n",
    "        if integers and isinstance(integers[0], collections.Iterable):\n",
    "            integers = integers[0]\n",
    "        print('Adder received', integers)\n",
    "        total += sum(integers)\n",
    "\n",
    "def send_values_into_adder(adder, *integers):\n",
    "    print('Sending', integers, 'into adder')\n",
    "    current_total = adder.send(integers)\n",
    "    print('Current total in adder is', current_total)\n",
    "    return current_total\n",
    "\n",
    "adder = adder_function()\n",
    "next(adder)\n",
    "\n",
    "send_values_into_adder(adder)\n",
    "print()\n",
    "send_values_into_adder(adder, 10)\n",
    "print()\n",
    "send_values_into_adder(adder, 1, 2, 3)\n",
    "print()\n",
    "send_values_into_adder(adder, range(8))\n",
    "print()\n",
    "print('Sending StopAdder into adder')\n",
    "try:\n",
    "    adder.throw(StopAdder)\n",
    "except StopIteration as exc:\n",
    "    print('Final total from adder is', exc.value)"
   ]
  },
  {
   "cell_type": "code",
   "execution_count": null,
   "metadata": {
    "collapsed": true
   },
   "outputs": [],
   "source": []
  }
 ],
 "metadata": {
  "kernelspec": {
   "display_name": "Python 3",
   "language": "python",
   "name": "python3"
  },
  "language_info": {
   "codemirror_mode": {
    "name": "ipython",
    "version": 3
   },
   "file_extension": ".py",
   "mimetype": "text/x-python",
   "name": "python",
   "nbconvert_exporter": "python",
   "pygments_lexer": "ipython3",
   "version": "3.6.0"
  }
 },
 "nbformat": 4,
 "nbformat_minor": 2
}

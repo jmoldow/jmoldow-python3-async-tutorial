{
 "cells": [
  {
   "cell_type": "markdown",
   "metadata": {
    "deletable": true,
    "editable": true
   },
   "source": [
    "## Interleaving computations with a rudimentary event loop"
   ]
  },
  {
   "cell_type": "markdown",
   "metadata": {
    "deletable": true,
    "editable": true
   },
   "source": [
    "In this example, we define a generator-based `factorial()` function. It does the computation iteratively, without any recursion. Each loop does one multiplication computation, before yielding.\n",
    "\n",
    "We also define a `step()` procedure (which is simply calls `__next__()` on its input), as well as a rudimentary event loop `run()`. This event loop accepts a list of arguments, which are tuples of (generator, callback to call with the final result of the generator). It also must be configured with a mode, either interleaved or non-interleaved.\n",
    "\n",
    "The event loop runs through all of the generators. When a generator is completed, it gathers the return value, and passes it to its registered callback. When all generators have completed, `run()` also completes.\n",
    "\n",
    "When run in non-interleaved mode, the first generator is run uninterrupted until completion, then its callback is called. Then the same is done for the second generator, and so on.\n",
    "\n",
    "When run in interleaved mode, each generator gets run for exactly one step, before being pushed to the back of the queue and then running a step on the next generator. When a generator is completed, its callback is called immediately, before the next generator is stepped."
   ]
  },
  {
   "cell_type": "code",
   "execution_count": 6,
   "metadata": {
    "collapsed": false,
    "deletable": true,
    "editable": true
   },
   "outputs": [
    {
     "name": "stdout",
     "output_type": "stream",
     "text": [
      "Starting non-interleaved computations.\n",
      "partial product for 12! is 132\n",
      "partial product for 12! is 1320\n",
      "partial product for 12! is 11880\n",
      "partial product for 12! is 95040\n",
      "partial product for 12! is 665280\n",
      "partial product for 12! is 3991680\n",
      "partial product for 12! is 19958400\n",
      "partial product for 12! is 79833600\n",
      "partial product for 12! is 239500800\n",
      "Completed factorial(12) after 10 rounds\n",
      "factorial(12) == 479001600\n",
      "partial product for 8! is 56\n",
      "partial product for 8! is 336\n",
      "partial product for 8! is 1680\n",
      "partial product for 8! is 6720\n",
      "partial product for 8! is 20160\n",
      "Completed factorial(8) after 16 rounds\n",
      "factorial(8) == 40320\n",
      "partial product for 4! is 12\n",
      "Completed factorial(4) after 18 rounds\n",
      "factorial(4) == 24\n",
      "\n",
      "Starting interleaved computations.\n",
      "partial product for 12! is 132\n",
      "partial product for 8! is 56\n",
      "partial product for 4! is 12\n",
      "partial product for 12! is 1320\n",
      "partial product for 8! is 336\n",
      "Completed factorial(4) after 6 rounds\n",
      "factorial(4) == 24\n",
      "partial product for 12! is 11880\n",
      "partial product for 8! is 1680\n",
      "partial product for 12! is 95040\n",
      "partial product for 8! is 6720\n",
      "partial product for 12! is 665280\n",
      "partial product for 8! is 20160\n",
      "partial product for 12! is 3991680\n",
      "Completed factorial(8) after 14 rounds\n",
      "factorial(8) == 40320\n",
      "partial product for 12! is 19958400\n",
      "partial product for 12! is 79833600\n",
      "partial product for 12! is 239500800\n",
      "Completed factorial(12) after 18 rounds\n",
      "factorial(12) == 479001600\n"
     ]
    }
   ],
   "source": [
    "from collections import OrderedDict\n",
    "\n",
    "def factorial(N):\n",
    "    if not isinstance(N, int):\n",
    "        raise TypeError(\"factorial requires an int\")\n",
    "    if N < 0:\n",
    "        raise ValueError(\"factorial requires a non-negative int\")\n",
    "    factorial = _factorial(N)\n",
    "    factorial.__name__ = f\"factorial({N})\"\n",
    "    return factorial \n",
    "\n",
    "def _factorial(N):\n",
    "    if 0 <= N <= 1:\n",
    "        return 1\n",
    "    if N == 2:\n",
    "        return 2\n",
    "    product = N * (N - 1)\n",
    "    n = N - 2\n",
    "    while n > 1:\n",
    "        print(\"partial product for\", f\"{N}!\", \"is\", product)\n",
    "        yield product\n",
    "        product *= n\n",
    "        n -= 1\n",
    "    return product\n",
    "\n",
    "def step(generator):\n",
    "    next(generator)\n",
    "\n",
    "def run(*args, interleave):\n",
    "    d = OrderedDict(args)\n",
    "    rounds = 0\n",
    "    mode = \"interleaved\" if interleave else \"non-interleaved\"\n",
    "    print(\"Starting\", mode, \"computations.\")\n",
    "    while d:\n",
    "        rounds += 1\n",
    "        generator, on_complete = d.popitem(last=False)\n",
    "        try:\n",
    "            step(generator)\n",
    "        except StopIteration as exc:\n",
    "            print(\"Completed\", generator.__name__, \"after\", rounds, \"rounds\")\n",
    "            on_complete(generator, exc.value)\n",
    "        else:\n",
    "            d[generator] = on_complete\n",
    "            d.move_to_end(generator, last=interleave)\n",
    "\n",
    "def print_result(factorial_generator, result):\n",
    "    print(factorial_generator.__name__, '==', result)\n",
    "            \n",
    "run((factorial(12), print_result), (factorial(8), print_result), (factorial(4), print_result), interleave=False)          \n",
    "print()\n",
    "run((factorial(12), print_result), (factorial(8), print_result), (factorial(4), print_result), interleave=True)"
   ]
  },
  {
   "cell_type": "markdown",
   "metadata": {
    "deletable": true,
    "editable": true
   },
   "source": [
    "Both interleaved and non-interleaved have the same total runtimes. However, the program may appear to be more responsive in one mode over the other, depending on the scheduled generators. In non-interleaved mode, the number of rounds to complete a particular generator is T + R, where R is the number of rounds to complete that generator in isolation, and T is the total number of rounds to complete all of the generators that were scheduled before it. Whereas, in interleaved mode, the number of rounds is, at most, (N * R) + R, where N is the number of other generators in the event loop (not including itself). Let's consider how these behave under various conditions:\n",
    "- One task: No difference.\n",
    "- One short task followed by one long task: No matter what, the long task will complete at the same time. But the short task will take slightly longer in interleaved mode.\n",
    "- One long task followed by one short task: The long task will finish slightly faster in non-interleaved mode, but the short task will finish much faster in interleaved mode.\n",
    "- Many tasks of equal length: In non-interleaved mode, one generator will complete every R rounds. In interleaved mode, a long time will pass without completing any generators, but towards the end many generators will complete in rapid succession.\n",
    "\n",
    "Interleaved mode isn't guaranteed to be better, but it is probably expected to perform better on average. In this mode, if there are only a few generators, then short tasks will always complete fast. Whereas the more generators there are in the run loop, the slower every generator will run, but each generator is penalized proportionally to its size. Non-interleaved mode can sometimes perform better, but since it penalizes based on position in the queue and based on the sizes of previous generators, it can cause massive and unfair slowdowns.\n",
    "\n",
    "In the example below, switching from non-interleaved to interleaved mode has the following effects:\n",
    "- `factorial(12)` goes from completing after 10 rounds, to completing after 18\n",
    "- `factorial(8)` goes from completing after 16 rounds, to completing after 14\n",
    "- `factorial(4)` goes from completing after 18 rounds, to completing after 6"
   ]
  },
  {
   "cell_type": "markdown",
   "metadata": {
    "deletable": true,
    "editable": true
   },
   "source": [
    "# License"
   ]
  },
  {
   "cell_type": "markdown",
   "metadata": {
    "deletable": true,
    "editable": true
   },
   "source": [
    "License: [Apache License, Version 2.0][Apache License]  \n",
    "[Jordan Moldow][], 2017\n",
    "\n",
    ">     Copyright 2017 Jordan Moldow\n",
    ">\n",
    ">     Licensed under the Apache License, Version 2.0 (the \"License\");\n",
    ">     you may not use this file except in compliance with the License.\n",
    ">     You may obtain a copy of the License at\n",
    ">\n",
    ">         http://www.apache.org/licenses/LICENSE-2.0\n",
    ">\n",
    ">     Unless required by applicable law or agreed to in writing, software\n",
    ">     distributed under the License is distributed on an \"AS IS\" BASIS,\n",
    ">     WITHOUT WARRANTIES OR CONDITIONS OF ANY KIND, either express or implied.\n",
    ">     See the License for the specific language governing permissions and\n",
    ">     limitations under the License.\n",
    "\n",
    "[Jordan Moldow]: <https://github.com/jmoldow> \"Jordan Moldow\"\n",
    "[Apache License]: <http://www.apache.org/licenses/LICENSE-2.0> \"Apache License, Version 2.0\""
   ]
  }
 ],
 "metadata": {
  "kernelspec": {
   "display_name": "Python 3",
   "language": "python",
   "name": "python3"
  },
  "language_info": {
   "codemirror_mode": {
    "name": "ipython",
    "version": 3
   },
   "file_extension": ".py",
   "mimetype": "text/x-python",
   "name": "python",
   "nbconvert_exporter": "python",
   "pygments_lexer": "ipython3",
   "version": "3.6.0"
  }
 },
 "nbformat": 4,
 "nbformat_minor": 2
}

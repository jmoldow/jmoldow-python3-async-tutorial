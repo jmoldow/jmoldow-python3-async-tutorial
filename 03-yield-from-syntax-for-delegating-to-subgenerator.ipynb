{
 "cells": [
  {
   "cell_type": "markdown",
   "metadata": {
    "collapsed": true,
    "deletable": true,
    "editable": true
   },
   "source": [
    "# Introduction to ``yield from``"
   ]
  },
  {
   "cell_type": "markdown",
   "metadata": {
    "deletable": true,
    "editable": true
   },
   "source": [
    "To my knowledge, Python 3.3 was the first in the Python 3.x to introduce brand new functionality / language syntax extensions for generators. This was the ability to delegate to subgenerators, via the new [``yield from``][yield from] construct. This was proposed in [PEP 380][].\n",
    "\n",
    "[PEP 380]: <https://www.python.org/dev/peps/pep-0380/> \"PEP 380 -- Syntax for Delegating to a Subgenerator\"\n",
    "[yield from]: <https://docs.python.org/3.3/reference/expressions.html#yield-expressions> \"yield from expressions\""
   ]
  },
  {
   "cell_type": "markdown",
   "metadata": {
    "deletable": true,
    "editable": true
   },
   "source": [
    "# Simple interpretation of ``yield from``"
   ]
  },
  {
   "cell_type": "markdown",
   "metadata": {
    "deletable": true,
    "editable": true
   },
   "source": [
    "At its most basic, ``yield from`` can be used to make it easier to correctly iterate through, and yield values from another iterable.\n",
    "\n",
    "Any time the iterable in the ``yield from`` expression yields a value, the generator immediately yields that same value. Execution continues inside the iterable, until it is exhausted. After that point, further execution may continue inside the outer generator."
   ]
  },
  {
   "cell_type": "code",
   "execution_count": 1,
   "metadata": {
    "collapsed": false,
    "deletable": true,
    "editable": true
   },
   "outputs": [
    {
     "data": {
      "text/plain": [
       "[0, 1, 2, 3, 4, 5, 6, 7]"
      ]
     },
     "execution_count": 1,
     "metadata": {},
     "output_type": "execute_result"
    }
   ],
   "source": [
    "def chain_with_yield(*iterables):\n",
    "    for iterable in iterables:\n",
    "        for item in iterable:\n",
    "            yield item\n",
    "            \n",
    "list(chain_with_yield(range(4), range(4, 8)))"
   ]
  },
  {
   "cell_type": "code",
   "execution_count": 2,
   "metadata": {
    "collapsed": false,
    "deletable": true,
    "editable": true
   },
   "outputs": [
    {
     "data": {
      "text/plain": [
       "[0, 1, 2, 3, 4, 5, 6, 7]"
      ]
     },
     "execution_count": 2,
     "metadata": {},
     "output_type": "execute_result"
    }
   ],
   "source": [
    "def chain_with_yield_from(*iterables):\n",
    "    for iterable in iterables:\n",
    "        yield from iterable\n",
    "        \n",
    "list(chain_with_yield_from(range(4), range(4, 8)))"
   ]
  },
  {
   "cell_type": "markdown",
   "metadata": {
    "deletable": true,
    "editable": true
   },
   "source": [
    "# Delegating the generator methods to the subgenerator"
   ]
  },
  {
   "cell_type": "markdown",
   "metadata": {
    "deletable": true,
    "editable": true
   },
   "source": [
    "The naive substitute for ``yield from``\n",
    "\n",
    "```python\n",
    "for item in iterable:\n",
    "    yield item\n",
    "```\n",
    "\n",
    "is only sufficient if the outer generator is being treated as a normal iterator. If you want to use ``send()`` or ``throw()``, they will only have an effect on the outer generator. Correctly delegating to the in-progress subgenerator requires [very tricky and ugly code][yield from semantics].\n",
    "\n",
    "But when using ``yield from``, the Python interpretter handles that delegation for you. Calling ``send()`` or ``throw()`` delegate through all ``yield from`` expressions in the current stack, all the way to the deepest ``yield`` expression, and then perform the ``send()`` or ``throw()`` at that location.\n",
    "\n",
    "An interesting consequence is that the outer generator loses all control of execution until the subgenerator is exhausted. Calls to ``__next__()``, ``send()``, and ``throw()`` will always be proxied directly to the subgenerator. The outer generator has no say in this behavior, and has no way to resume control until the subgenerator raises ``StopIteration`` or some other exception.\n",
    "\n",
    "[yield from semantics]: <https://www.python.org/dev/peps/pep-0380/#formal-semantics> \"yield from semantics\""
   ]
  },
  {
   "cell_type": "code",
   "execution_count": 3,
   "metadata": {
    "collapsed": false,
    "deletable": true,
    "editable": true
   },
   "outputs": [
    {
     "name": "stdout",
     "output_type": "stream",
     "text": [
      "yielding None\n",
      "received 3\n",
      "yielding 3\n",
      "3\n",
      "received 4\n",
      "yielding 4\n",
      "4\n",
      "Received IgnorableError() and will re-raise\n",
      "Caught IgnorableError from subgenerator, restarting subgenerator\n",
      "yielding None\n",
      "None\n",
      "Received GeneratorExit, returning\n",
      "Received GeneratorExit from subgenerator, returning\n"
     ]
    }
   ],
   "source": [
    "import traceback\n",
    "\n",
    "class IgnorableError(Exception): pass\n",
    "\n",
    "def yield_sent_values():\n",
    "    value = None\n",
    "    while True:\n",
    "        print('yielding', value)\n",
    "        try:\n",
    "            value = (yield value)\n",
    "        except GeneratorExit:\n",
    "            print('Received GeneratorExit, returning')\n",
    "            return\n",
    "        except Exception as exc:\n",
    "            print('Received', repr(exc), 'and will re-raise')\n",
    "            raise\n",
    "        print('received', value)\n",
    "        \n",
    "def delegator_function():\n",
    "    while True:\n",
    "        try:\n",
    "            yield from yield_sent_values()\n",
    "        except IgnorableError:\n",
    "            print('Caught IgnorableError from subgenerator, restarting subgenerator')\n",
    "        except GeneratorExit:\n",
    "            print('Received GeneratorExit from subgenerator, returning')\n",
    "            return\n",
    "        except Exception as exc:\n",
    "            print('Received', repr(exc), 'from subgenerator, re-raising')\n",
    "            raise\n",
    "    \n",
    "delegator = delegator_function()\n",
    "next(delegator)\n",
    "print(delegator.send(3))\n",
    "print(delegator.send(4))\n",
    "print(delegator.throw(IgnorableError))\n",
    "delegator.close()"
   ]
  },
  {
   "cell_type": "markdown",
   "metadata": {
    "deletable": true,
    "editable": true
   },
   "source": [
    "# Value of the ``yield from`` expression"
   ]
  },
  {
   "cell_type": "markdown",
   "metadata": {
    "deletable": true,
    "editable": true
   },
   "source": [
    "Just like ``yield``, the ``yield from`` construct can be used as an expression. It can be assigned to a variable, passed to another function, etc.\n",
    "\n",
    "The value is the object that gets returned as the subgenerator exits, or the ``.value`` attribute of the raised ``StopIteration``.\n",
    "\n",
    "Again ignoring the semantics of ``send()`` and ``throw()``, this means that ``RESULT = yield from EXPR`` is similar to the following code.\n",
    "\n",
    "```python\n",
    "iter = (EXPR).__iter__()\n",
    "running = True\n",
    "while running:\n",
    "    try:\n",
    "        yield iter.__next__()\n",
    "    except StopIteration as exc:\n",
    "        RESULT = exc.value\n",
    "        running = False\n",
    "```"
   ]
  },
  {
   "cell_type": "code",
   "execution_count": 4,
   "metadata": {
    "collapsed": false,
    "deletable": true,
    "editable": true
   },
   "outputs": [
    {
     "name": "stdout",
     "output_type": "stream",
     "text": [
      "generator yielded yielded_value\n",
      "generator received final return value returned_value from subgenerator\n"
     ]
    }
   ],
   "source": [
    "def subgenerator():\n",
    "    yield 'yielded_value'\n",
    "    return 'returned_value'\n",
    "\n",
    "def generator():\n",
    "    value = yield from subgenerator()\n",
    "    print('generator received final return value', value, 'from subgenerator')\n",
    "    \n",
    "for item in generator():\n",
    "    print('generator yielded', item)"
   ]
  },
  {
   "cell_type": "code",
   "execution_count": 5,
   "metadata": {
    "collapsed": false,
    "deletable": true,
    "editable": true
   },
   "outputs": [
    {
     "name": "stdout",
     "output_type": "stream",
     "text": [
      "generator received final return value returned_value from SubGenerator\n"
     ]
    }
   ],
   "source": [
    "import collections\n",
    "\n",
    "\n",
    "class SubGenerator(collections.Generator):\n",
    "    def send(self, value):\n",
    "        raise StopIteration('returned_value')\n",
    "    def throw(self, *exc_info):\n",
    "        next(self)\n",
    "        \n",
    "        \n",
    "def generator():\n",
    "    value = yield from SubGenerator()\n",
    "    print('generator received final return value', value, 'from SubGenerator')\n",
    "    \n",
    "    \n",
    "for item in generator():\n",
    "    pass"
   ]
  },
  {
   "cell_type": "markdown",
   "metadata": {
    "deletable": true,
    "editable": true
   },
   "source": [
    "# Generators as threads"
   ]
  },
  {
   "cell_type": "markdown",
   "metadata": {
    "deletable": true,
    "editable": true
   },
   "source": [
    "Before [PEP 380][] and Python 3.3, there was no `StopIteration.value` attribute, and generators could not return values. Thus, the main purposes of generators were to serve as a special syntax for defining an iterator, and in advanced cases to serve as a general mechanism for suspending and resuming execution of a block of code.\n",
    "\n",
    "Now that generators can return values, they are able to take on a new meaning. A generator which returns a value can be thought of as a computation that produces a result, but which suspends itself in the middle of that computation. It might do this in order to\n",
    "1. `yield` an intermediate value;\n",
    "2. communicate some information to the top-level executor;\n",
    "3. receive values or instructions via `send()`, `throw()`, and `close()`;\n",
    "4. or simply to allow other computations to be interleaved with it.\n",
    "\n",
    "We already showed an example of 1., with the generator-based adders that we defined in the previous chapter. The concept of 2. is a bit more complex, so we will save that for an upcoming chapter. Then generator-based adder also shows off 3., though for another example see <<http://www.cosc.canterbury.ac.nz/greg.ewing/python/yield-from/yf_current/Examples/Parser/parser.txt>>. And we'll show off an example 4. in a moment.\n",
    "\n",
    "In the case of 3. and 4., the outer executor might not even care about the values that get yielded from the generator, and the generator may just be able to `yield` without a value.\n",
    "\n",
    "The language of [PEP 380][] refers to these behaviors in an interesting way. The proposal document has a section titled \"[Generators as Threads][]\". Here is a quote of the most interesting part of that section:\n",
    "\n",
    "[PEP 380]: <https://www.python.org/dev/peps/pep-0380/> \"PEP 380 -- Syntax for Delegating to a Subgenerator\"\n",
    "[Generators as Threads]: <https://www.python.org/dev/peps/pep-0380/#generators-as-threads> \"Generators as Threads\"\n",
    "\n",
    "> A motivation for generators being able to return values concerns the use of generators to implement lightweight threads. When using generators in that way, it is reasonable to want to spread the computation performed by the lightweight thread over many functions. One would like to be able to call a subgenerator as though it were an ordinary function, passing it parameters and receiving a returned value.\n",
    ">\n",
    "> Using the proposed syntax, a statement such as\n",
    ">\n",
    "> `y = f(x)`\n",
    ">\n",
    "> where f is an ordinary function, can be transformed into a delegation call\n",
    ">\n",
    "> `y = yield from g(x)`\n",
    ">\n",
    "> where g is a generator. One can reason about the behaviour of the resulting code by thinking of g as an ordinary function that can be suspended using a yield statement.\n",
    "\n",
    "When they say \"thread\", they don't mean a `threading.Thread` or an operating system thread. Rather, they are referring to a computation, procedure, or program that can be run concurrently with other such threads. This concept will be explored when we talk about event loops and async tasks.\n",
    "\n",
    "A related line of thinking is to view these generators as futures. Suppose again that `g` is a generator function which returns a value. Then `y = yield from g(x)` assigns that return value to `y`. However, since the computation of `g(x)` involves `yield` and possibly `yield from` statements, it will suspend itself one or more times, and the final result will not be available right away. But when the final result is available, it is immediately assigned to `y`, and computation of that function resumes. This isn't quite the same as a future, since futures are objects that can be passed around, mapped, assigned callbacks, etc. And when a function returns a future, the caller's execution is not suspended until/unless the caller decides to explicitly wait on the result. When we explore event loops, we'll see an actual future that takes advantage of `yield from`.\n",
    "\n",
    "Unfortunately, not everything is sunshine and rainbows, even with the introduction of `yield from`. Say you are writing a function `f`, and you want to call a function `g` that produces some return value. However, `g` is a generator function, whereas `f` is currently a normal function. Here, you have three options:\n",
    "1. Use `y = yield from g()` to get the return value. However, this will turn `f` into a generator function, which means that its caller(s) need to run `f` or must themselves `yield from f()`, and so on and so forth.\n",
    "2. Run `g()` through to completion, perhaps manually, or perhaps using a helper function like\n",
    "   ```python\n",
    "   def run_until_complete(generator):\n",
    "       try:\n",
    "           while True:\n",
    "               step(generator)\n",
    "       except StopIteration as exc:\n",
    "           return exc.value\n",
    "   ```\n",
    "   This has the downside that your program loses out on the ability to possibly interleave other computations and do concurrent programming.\n",
    "\n",
    "3. Reimplement `g` as a non-generator function, and call that function instead.\n",
    "\n",
    "Going with 1. isn't necessarily a bad thing. But it does show how using generators to represent suspendable computations can be infectious. Later we'll see how this is necessary in order to gain the ability to do async programming."
   ]
  },
  {
   "cell_type": "markdown",
   "metadata": {
    "deletable": true,
    "editable": true
   },
   "source": [
    "## Interleaving computations with a rudimentary event loop"
   ]
  },
  {
   "cell_type": "markdown",
   "metadata": {
    "deletable": true,
    "editable": true
   },
   "source": [
    "In this example, we define a generator-based `factorial()` function. It does the computation iteratively, without any recursion. Each loop does one multiplication computation, before yielding.\n",
    "\n",
    "We also define a `step()` procedure (which is simply calls `__next__()` on its input), as well as a rudimentary event loop `run()`. This event loop accepts a list of arguments, which are tuples of (generator, callback to call with the final result of the generator). It also must be configured with a mode, either interleaved or non-interleaved.\n",
    "\n",
    "The event loop runs through all of the generators. When a generator is completed, it gathers the return value, and passes it to its registered callback. When all generators have completed, `run()` also completes.\n",
    "\n",
    "When run in non-interleaved mode, the first generator is run uninterrupted until completion, then its callback is called. Then the same is done for the second generator, and so on.\n",
    "\n",
    "When run in interleaved mode, each generator gets run for exactly one step, before being pushed to the back of the queue and then running a step on the next generator. When a generator is completed, its callback is called immediately, before the next generator is stepped."
   ]
  },
  {
   "cell_type": "code",
   "execution_count": 6,
   "metadata": {
    "collapsed": false,
    "deletable": true,
    "editable": true
   },
   "outputs": [
    {
     "name": "stdout",
     "output_type": "stream",
     "text": [
      "Starting non-interleaved computations.\n",
      "partial product for 12! is 132\n",
      "partial product for 12! is 1320\n",
      "partial product for 12! is 11880\n",
      "partial product for 12! is 95040\n",
      "partial product for 12! is 665280\n",
      "partial product for 12! is 3991680\n",
      "partial product for 12! is 19958400\n",
      "partial product for 12! is 79833600\n",
      "partial product for 12! is 239500800\n",
      "Completed factorial(12) after 10 rounds\n",
      "factorial(12) == 479001600\n",
      "partial product for 8! is 56\n",
      "partial product for 8! is 336\n",
      "partial product for 8! is 1680\n",
      "partial product for 8! is 6720\n",
      "partial product for 8! is 20160\n",
      "Completed factorial(8) after 16 rounds\n",
      "factorial(8) == 40320\n",
      "partial product for 4! is 12\n",
      "Completed factorial(4) after 18 rounds\n",
      "factorial(4) == 24\n",
      "\n",
      "Starting interleaved computations.\n",
      "partial product for 12! is 132\n",
      "partial product for 8! is 56\n",
      "partial product for 4! is 12\n",
      "partial product for 12! is 1320\n",
      "partial product for 8! is 336\n",
      "Completed factorial(4) after 6 rounds\n",
      "factorial(4) == 24\n",
      "partial product for 12! is 11880\n",
      "partial product for 8! is 1680\n",
      "partial product for 12! is 95040\n",
      "partial product for 8! is 6720\n",
      "partial product for 12! is 665280\n",
      "partial product for 8! is 20160\n",
      "partial product for 12! is 3991680\n",
      "Completed factorial(8) after 14 rounds\n",
      "factorial(8) == 40320\n",
      "partial product for 12! is 19958400\n",
      "partial product for 12! is 79833600\n",
      "partial product for 12! is 239500800\n",
      "Completed factorial(12) after 18 rounds\n",
      "factorial(12) == 479001600\n"
     ]
    }
   ],
   "source": [
    "from collections import OrderedDict\n",
    "\n",
    "def factorial(N):\n",
    "    if not isinstance(N, int):\n",
    "        raise TypeError(\"factorial requires an int\")\n",
    "    if N < 0:\n",
    "        raise ValueError(\"factorial requires a non-negative int\")\n",
    "    factorial = _factorial(N)\n",
    "    factorial.__name__ = f\"factorial({N})\"\n",
    "    return factorial \n",
    "\n",
    "def _factorial(N):\n",
    "    if 0 <= N <= 1:\n",
    "        return 1\n",
    "    if N == 2:\n",
    "        return 2\n",
    "    product = N * (N - 1)\n",
    "    n = N - 2\n",
    "    while n > 1:\n",
    "        print(\"partial product for\", f\"{N}!\", \"is\", product)\n",
    "        yield product\n",
    "        product *= n\n",
    "        n -= 1\n",
    "    return product\n",
    "\n",
    "def step(generator):\n",
    "    next(generator)\n",
    "\n",
    "def run(*args, interleave):\n",
    "    d = OrderedDict(args)\n",
    "    rounds = 0\n",
    "    mode = \"interleaved\" if interleave else \"non-interleaved\"\n",
    "    print(\"Starting\", mode, \"computations.\")\n",
    "    while d:\n",
    "        rounds += 1\n",
    "        generator, on_complete = d.popitem(last=False)\n",
    "        try:\n",
    "            step(generator)\n",
    "        except StopIteration as exc:\n",
    "            print(\"Completed\", generator.__name__, \"after\", rounds, \"rounds\")\n",
    "            on_complete(generator, exc.value)\n",
    "        else:\n",
    "            d[generator] = on_complete\n",
    "            d.move_to_end(generator, last=interleave)\n",
    "\n",
    "def print_result(factorial_generator, result):\n",
    "    print(factorial_generator.__name__, '==', result)\n",
    "            \n",
    "run((factorial(12), print_result), (factorial(8), print_result), (factorial(4), print_result), interleave=False)          \n",
    "print()\n",
    "run((factorial(12), print_result), (factorial(8), print_result), (factorial(4), print_result), interleave=True)"
   ]
  },
  {
   "cell_type": "markdown",
   "metadata": {},
   "source": [
    "Both interleaved and non-interleaved have the same total runtimes. However, the program may appear to be more responsive in one mode over the other, depending on the scheduled generators. In non-interleaved mode, the number of rounds to complete a particular generator is T + R, where R is the number of rounds to complete that generator in isolation, and T is the total number of rounds to complete all of the generators that were scheduled before it. Whereas, in interleaved mode, the number of rounds is, at most, (N * R) + R, where N is the number of other generators in the event loop (not including itself). Let's consider how these behave under various conditions:\n",
    "- One task: No difference.\n",
    "- One short task followed by one long task: No matter what, the long task will complete at the same time. But the short task will take slightly longer in interleaved mode.\n",
    "- One long task followed by one short task: The long task will finish slightly faster in non-interleaved mode, but the short task will finish much faster in interleaved mode.\n",
    "- Many tasks of equal length: In non-interleaved mode, one generator will complete every R rounds. In interleaved mode, a long time will pass without completing any generators, but towards the end many generators will complete in rapid succession.\n",
    "\n",
    "Interleaved mode isn't guaranteed to be better, but it is probably expected to perform better on average. In this mode, if there are only a few generators, then short tasks will always complete fast. Whereas the more generators there are in the run loop, the slower every generator will run, but each generator is penalized proportionally to its size. Non-interleaved mode can sometimes perform better, but since it penalizes based on position in the queue and based on the sizes of previous generators, it can cause massive and unfair slowdowns.\n",
    "\n",
    "In the example below, switching from non-interleaved to interleaved mode has the following effects:\n",
    "- `factorial(12)` goes from completing after 10 rounds, to completing after 18\n",
    "- `factorial(8)` goes from completing after 16 rounds, to completing after 14\n",
    "- `factorial(4)` goes from completing after 18 rounds, to completing after 6"
   ]
  },
  {
   "cell_type": "markdown",
   "metadata": {
    "deletable": true,
    "editable": true
   },
   "source": [
    "# License"
   ]
  },
  {
   "cell_type": "markdown",
   "metadata": {
    "deletable": true,
    "editable": true
   },
   "source": [
    "License: [Apache License, Version 2.0][Apache License]  \n",
    "[Jordan Moldow][], 2017\n",
    "\n",
    ">     Copyright 2017 Jordan Moldow\n",
    ">\n",
    ">     Licensed under the Apache License, Version 2.0 (the \"License\");\n",
    ">     you may not use this file except in compliance with the License.\n",
    ">     You may obtain a copy of the License at\n",
    ">\n",
    ">         http://www.apache.org/licenses/LICENSE-2.0\n",
    ">\n",
    ">     Unless required by applicable law or agreed to in writing, software\n",
    ">     distributed under the License is distributed on an \"AS IS\" BASIS,\n",
    ">     WITHOUT WARRANTIES OR CONDITIONS OF ANY KIND, either express or implied.\n",
    ">     See the License for the specific language governing permissions and\n",
    ">     limitations under the License.\n",
    "\n",
    "[Jordan Moldow]: <https://github.com/jmoldow> \"Jordan Moldow\"\n",
    "[Apache License]: <http://www.apache.org/licenses/LICENSE-2.0> \"Apache License, Version 2.0\""
   ]
  }
 ],
 "metadata": {
  "kernelspec": {
   "display_name": "Python 3",
   "language": "python",
   "name": "python3"
  },
  "language_info": {
   "codemirror_mode": {
    "name": "ipython",
    "version": 3
   },
   "file_extension": ".py",
   "mimetype": "text/x-python",
   "name": "python",
   "nbconvert_exporter": "python",
   "pygments_lexer": "ipython3",
   "version": "3.6.0"
  }
 },
 "nbformat": 4,
 "nbformat_minor": 2
}
